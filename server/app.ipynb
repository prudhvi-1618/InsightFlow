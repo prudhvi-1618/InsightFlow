{
 "cells": [
  {
   "cell_type": "code",
   "execution_count": 1,
   "id": "8228b569",
   "metadata": {},
   "outputs": [
    {
     "data": {
      "text/plain": [
       "True"
      ]
     },
     "execution_count": 1,
     "metadata": {},
     "output_type": "execute_result"
    }
   ],
   "source": [
    "from langchain_groq.chat_models import ChatGroq\n",
    "from typing import TypedDict,Annotated\n",
    "from langgraph.graph import END,StateGraph,add_messages\n",
    "from langgraph.checkpoint.memory import MemorySaver\n",
    "from langchain_community.tools import TavilySearchResults\n",
    "from dotenv import load_dotenv\n",
    "from uuid import uuid4\n",
    "\n",
    "load_dotenv()"
   ]
  },
  {
   "cell_type": "code",
   "execution_count": 2,
   "id": "10472cee",
   "metadata": {},
   "outputs": [],
   "source": [
    "llm = ChatGroq(model=\"llama-3.3-70b-versatile\")"
   ]
  },
  {
   "cell_type": "code",
   "execution_count": 3,
   "id": "57d10181",
   "metadata": {},
   "outputs": [],
   "source": [
    "class State(StateGraph):\n",
    "    messages = Annotated[list,add_messages]"
   ]
  },
  {
   "cell_type": "code",
   "execution_count": 4,
   "id": "1eaf4ed4",
   "metadata": {},
   "outputs": [
    {
     "name": "stderr",
     "output_type": "stream",
     "text": [
      "C:\\Users\\DELL\\AppData\\Local\\Temp\\ipykernel_4496\\3959453000.py:1: LangChainDeprecationWarning: The class `TavilySearchResults` was deprecated in LangChain 0.3.25 and will be removed in 1.0. An updated version of the class exists in the :class:`~langchain-tavily package and should be used instead. To use it run `pip install -U :class:`~langchain-tavily` and import as `from :class:`~langchain_tavily import TavilySearch``.\n",
      "  search_tool = TavilySearchResults(search_depth=\"basic\")\n"
     ]
    }
   ],
   "source": [
    "search_tool = TavilySearchResults(search_depth=\"basic\")\n",
    "tools = [search_tool]"
   ]
  },
  {
   "cell_type": "code",
   "execution_count": 5,
   "id": "7de5d7bf",
   "metadata": {},
   "outputs": [],
   "source": [
    "llm_with_tool  = llm.bind_tools(tools=tools)\n",
    "memory = MemorySaver()"
   ]
  },
  {
   "cell_type": "code",
   "execution_count": 6,
   "id": "7064ba3d",
   "metadata": {},
   "outputs": [
    {
     "data": {
      "text/plain": [
       "AIMessage(content='', additional_kwargs={'tool_calls': [{'id': 'q6qqpjdmv', 'function': {'arguments': '{\"query\":\"Andhra Pradesh weather\"}', 'name': 'tavily_search_results_json'}, 'type': 'function'}]}, response_metadata={'token_usage': {'completion_tokens': 21, 'prompt_tokens': 284, 'total_tokens': 305, 'completion_time': 0.06514629, 'prompt_time': 0.028536294, 'queue_time': 0.051695325, 'total_time': 0.093682584}, 'model_name': 'llama-3.3-70b-versatile', 'system_fingerprint': 'fp_2ddfbb0da0', 'service_tier': 'on_demand', 'finish_reason': 'tool_calls', 'logprobs': None}, id='run--ee0e881a-d37a-41b2-bbb5-3c059d6a9080-0', tool_calls=[{'name': 'tavily_search_results_json', 'args': {'query': 'Andhra Pradesh weather'}, 'id': 'q6qqpjdmv', 'type': 'tool_call'}], usage_metadata={'input_tokens': 284, 'output_tokens': 21, 'total_tokens': 305})"
      ]
     },
     "execution_count": 6,
     "metadata": {},
     "output_type": "execute_result"
    }
   ],
   "source": [
    "res = llm_with_tool.invoke(\"What is weather of AP?\")\n",
    "res"
   ]
  },
  {
   "cell_type": "code",
   "execution_count": 7,
   "id": "8574833b",
   "metadata": {},
   "outputs": [],
   "source": [
    "from langchain_core.messages import AIMessage,HumanMessage,ToolMessage"
   ]
  },
  {
   "cell_type": "code",
   "execution_count": 8,
   "id": "eec7d3e6",
   "metadata": {},
   "outputs": [],
   "source": [
    "class State(TypedDict):\n",
    "    messages : Annotated[list,add_messages]"
   ]
  },
  {
   "cell_type": "code",
   "execution_count": 9,
   "id": "fe791c42",
   "metadata": {},
   "outputs": [],
   "source": [
    "async def model(state:State):\n",
    "    result = await llm_with_tool.ainvoke(state['messages'])  \n",
    "    return {\n",
    "        \"messages\": result\n",
    "    }"
   ]
  },
  {
   "cell_type": "code",
   "execution_count": 10,
   "id": "13c2edcb",
   "metadata": {},
   "outputs": [],
   "source": [
    "async def tool_node(state:State):\n",
    "    tool_calls = state[\"messages\"][-1].tool_calls\n",
    "    tool_messages = []\n",
    "    for tool_call in tool_calls:\n",
    "        tool_name = tool_call['name']\n",
    "        tool_args = tool_call['args']\n",
    "        tool_id = tool_call['id']\n",
    "\n",
    "        if tool_name == 'tavily_search_results_json':\n",
    "            search_results = await search_tool.ainvoke(tool_args)\n",
    "            tool_message = ToolMessage(\n",
    "                content=str(search_results),\n",
    "                tool_call_id = tool_id,\n",
    "                name = tool_name\n",
    "            )\n",
    "\n",
    "            tool_messages.append(tool_message)\n",
    "    return {\"messages\":tool_messages}"
   ]
  },
  {
   "cell_type": "code",
   "execution_count": 11,
   "id": "d1cf1779",
   "metadata": {},
   "outputs": [],
   "source": [
    "MODEL = 'model_node'\n",
    "TOOL_NODE  = 'tool_node'"
   ]
  },
  {
   "cell_type": "code",
   "execution_count": 12,
   "id": "1cec676b",
   "metadata": {},
   "outputs": [],
   "source": [
    "graph = StateGraph(State)\n",
    "graph.add_node(MODEL,model)\n",
    "graph.add_node(TOOL_NODE,tool_node)\n",
    "\n",
    "def tool_route(state:State):\n",
    "    last_message = state['messages'][-1]\n",
    "    if hasattr(last_message,'tool_calls') and len(last_message.tool_calls)>0:\n",
    "        return TOOL_NODE\n",
    "    return END\n",
    "\n",
    "graph.set_entry_point(MODEL)\n",
    "graph.add_conditional_edges(MODEL,tool_route,path_map={\n",
    "    \"tool_node\":TOOL_NODE,\n",
    "    \"__end__\":END\n",
    "})\n",
    "graph.add_edge(TOOL_NODE,MODEL)\n",
    "app = graph.compile(checkpointer=memory)"
   ]
  },
  {
   "cell_type": "code",
   "execution_count": 13,
   "id": "0368b3c8",
   "metadata": {},
   "outputs": [],
   "source": [
    "config = {\n",
    "    \"configurable\":{\n",
    "        \"thread_id\":1\n",
    "    }\n",
    "}"
   ]
  },
  {
   "cell_type": "code",
   "execution_count": 14,
   "id": "4e153797",
   "metadata": {},
   "outputs": [],
   "source": [
    "res = await app.ainvoke({\"messages\":\"What is the weather in ap?\"},config=config)"
   ]
  },
  {
   "cell_type": "code",
   "execution_count": 15,
   "id": "e9589b14",
   "metadata": {},
   "outputs": [
    {
     "data": {
      "text/plain": [
       "{'messages': [HumanMessage(content='What is the weather in ap?', additional_kwargs={}, response_metadata={}, id='8793e308-a6da-45f2-a9b0-76fff64dab8a'),\n",
       "  AIMessage(content='', additional_kwargs={'tool_calls': [{'id': 'a6ze8g9g1', 'function': {'arguments': '{\"query\":\"weather in AP\"}', 'name': 'tavily_search_results_json'}, 'type': 'function'}]}, response_metadata={'token_usage': {'completion_tokens': 20, 'prompt_tokens': 285, 'total_tokens': 305, 'completion_time': 0.051844976, 'prompt_time': 0.029097356, 'queue_time': 0.045486414, 'total_time': 0.080942332}, 'model_name': 'llama-3.3-70b-versatile', 'system_fingerprint': 'fp_3f3b593e33', 'service_tier': 'on_demand', 'finish_reason': 'tool_calls', 'logprobs': None}, id='run--7ecec3f4-9468-4f27-a1c4-27b51413bc7f-0', tool_calls=[{'name': 'tavily_search_results_json', 'args': {'query': 'weather in AP'}, 'id': 'a6ze8g9g1', 'type': 'tool_call'}], usage_metadata={'input_tokens': 285, 'output_tokens': 20, 'total_tokens': 305}),\n",
       "  ToolMessage(content='[{\\'title\\': \\'Weather in Andhra Pradesh\\', \\'url\\': \\'https://www.weatherapi.com/\\', \\'content\\': \"{\\'location\\': {\\'name\\': \\'Visakhapatnam\\', \\'region\\': \\'Andhra Pradesh\\', \\'country\\': \\'India\\', \\'lat\\': 17.7, \\'lon\\': 83.3, \\'tz_id\\': \\'Asia/Kolkata\\', \\'localtime_epoch\\': 1758123367, \\'localtime\\': \\'2025-09-17 21:06\\'}, \\'current\\': {\\'last_updated_epoch\\': 1758123000, \\'last_updated\\': \\'2025-09-17 21:00\\', \\'temp_c\\': 28.0, \\'temp_f\\': 82.3, \\'is_day\\': 0, \\'condition\\': {\\'text\\': \\'Partly Cloudy\\', \\'icon\\': \\'//cdn.weatherapi.com/weather/64x64/night/116.png\\', \\'code\\': 1003}, \\'wind_mph\\': 7.6, \\'wind_kph\\': 12.2, \\'wind_degree\\': 216, \\'wind_dir\\': \\'SW\\', \\'pressure_mb\\': 1009.0, \\'pressure_in\\': 29.79, \\'precip_mm\\': 0.0, \\'precip_in\\': 0.0, \\'humidity\\': 78, \\'cloud\\': 32, \\'feelslike_c\\': 32.0, \\'feelslike_f\\': 89.6, \\'windchill_c\\': 28.0, \\'windchill_f\\': 82.3, \\'heatindex_c\\': 32.0, \\'heatindex_f\\': 89.6, \\'dewpoint_c\\': 23.9, \\'dewpoint_f\\': 74.9, \\'vis_km\\': 10.0, \\'vis_miles\\': 6.0, \\'uv\\': 0.0, \\'gust_mph\\': 10.8, \\'gust_kph\\': 17.4}}\", \\'score\\': 0.9637073}, {\\'title\\': \\'Weather Update: Heavy Rains Lash South Coastal Andhra Pradesh\\', \\'url\\': \\'https://www.instagram.com/p/DOsB0BskVRq/\\', \\'content\\': \\'Weather Update: Heavy Rains Lash South Coastal Andhra Pradesh ... 17-09-2025 5km 54 48 42 36 30 280 24 18 12 90.5 era 31.5 82.0 6 0.\\', \\'score\\': 0.87782305}, {\\'title\\': \\'Andhra Pradesh weather in September 2025 | Weather25.com\\', \\'url\\': \\'https://www.weather25.com/asia/india/andhra-pradesh?page=month&month=September\\', \\'content\\': \\'| March | **98°** / 75° | 1 | 31 | 0 | 0.28 in | Ok | Andhra Pradesh in March | | June | **91°** / 78° | 9 | 21 | 0 | 8.23 in | Ok | Andhra Pradesh in June | | August | **84°** / 73° | 9 | 22 | 0 | 8.74 in | Ok | Andhra Pradesh in August | | September | **86°** / 73° | 10 | 20 | 0 | 9.57 in | Ok | Andhra Pradesh in September | | October | **86°** / 71° | 7 | 24 | 0 | 5.91 in | Ok | Andhra Pradesh in October | The average temperature in Andhra Pradesh in September is 73/86° F.\\', \\'score\\': 0.82994765}, {\\'title\\': \\'Weather in 2nd Zone in September 2025 (State of Andhra Pradesh)\\', \\'url\\': \\'https://world-weather.info/forecast/india/2nd_zone/september-2025/\\', \\'content\\': \"* Weather * Weather in 2nd Zone # Weather in 2nd Zone in September 2025 * +84° +82° +77° +81° +77° +82° +77° +86° +77° +86° +77° +88° +77° +90° +77° +88° +79° +86° +79° +81° +79° 4 mph NW 28.9 inHg95 %05:58 am06:18 pm +82° +77° +84° +77° +86° +79° +86° +77° +84° +79° +84° +77° 3.1 mph S 28.8 inHg81 %06:00 am06:13 pm +86° +77° +86° +77° +86° +77° +82° +77° +82° +77° +84° +77° +84° +77° +82° +77° +82° +77° +82° +77° +70° +77° +72° +70° +82° +70° HourlyWeek10-Day14-Day30-DayBiometeo... Weather in New Delhi**+82°** Kurnool**+84°** Amrāvati**+77°** Rajahmundry**+81°** Akola**+79°** Solapur**+79°** Wāsi**+77°** Kākināda**+79°** Rāichūr**+84°** Nagpur**+79°** Guntūr**+79°** Nizāmābād**+77°** Kūkatpalli**+77°** Hyderabad**+77°** Chandrapur**+79°** Kodaputtu**+84°** Minimum and maximumworld\\'s temperature today day day Temperature units\", \\'score\\': 0.7933146}, {\\'title\\': \\'District forecast of Andhra Pradesh dated 17-09-2025 ... - Instagram\\', \\'url\\': \\'https://www.instagram.com/p/DOsn93egW08/\\', \\'content\\': \\'Weather warning for Andhra Pradesh for next five days dated 17-09-2025 #IMD #APWeather #APforecast #MCAmaravati.\\', \\'score\\': 0.74273956}]', name='tavily_search_results_json', id='a4037a1a-a448-4f25-a1d0-624b94b14306', tool_call_id='a6ze8g9g1'),\n",
       "  AIMessage(content='The current weather in Andhra Pradesh (AP) is partly cloudy with a temperature of 28°C (82.3°F) and a humidity of 78%. The wind is blowing at 7.6 mph (12.2 kph) from the southwest direction. There is no precipitation, and the visibility is 10 km (6 miles). The feels-like temperature is 32°C (89.6°F), and the UV index is 0.0.', additional_kwargs={}, response_metadata={'token_usage': {'completion_tokens': 96, 'prompt_tokens': 1663, 'total_tokens': 1759, 'completion_time': 0.236219847, 'prompt_time': 0.132774482, 'queue_time': 0.051154898, 'total_time': 0.368994329}, 'model_name': 'llama-3.3-70b-versatile', 'system_fingerprint': 'fp_2ddfbb0da0', 'service_tier': 'on_demand', 'finish_reason': 'stop', 'logprobs': None}, id='run--7c831bca-dc4a-4857-b903-83a73478cabd-0', usage_metadata={'input_tokens': 1663, 'output_tokens': 96, 'total_tokens': 1759})]}"
      ]
     },
     "execution_count": 15,
     "metadata": {},
     "output_type": "execute_result"
    }
   ],
   "source": [
    "res"
   ]
  },
  {
   "cell_type": "code",
   "execution_count": 16,
   "id": "5f5f20e6",
   "metadata": {},
   "outputs": [
    {
     "data": {
      "image/png": "[encoded data removed]",
      "text/plain": [
       "<IPython.core.display.Image object>"
      ]
     },
     "metadata": {},
     "output_type": "display_data"
    }
   ],
   "source": [
    "from IPython.display import Image,display\n",
    "from langchain_core.runnables.graph import MermaidDrawMethod\n",
    "\n",
    "display(\n",
    "    Image(\n",
    "        app.get_graph().draw_mermaid_png(\n",
    "            draw_method = MermaidDrawMethod.API\n",
    "        )\n",
    "    )\n",
    ")"
   ]
  },
  {
   "cell_type": "code",
   "execution_count": 17,
   "id": "acad90cf",
   "metadata": {},
   "outputs": [],
   "source": [
    "initial_msg = {\"messages\":\"What is the weather in ap?\"}"
   ]
  },
  {
   "cell_type": "code",
   "execution_count": 20,
   "id": "2d47b8f0",
   "metadata": {},
   "outputs": [
    {
     "name": "stdout",
     "output_type": "stream",
     "text": [
      "The current weather in Andhra Pradesh (AP) is partly cloudy with a temperature of 28°C (82.3°F) and a humidity of 78%. The wind is blowing at 7.6 mph (12.2 kph) from the southwest direction. There is no precipitation, and the visibility is 10 km (6 miles). The feels-like temperature is 32°C (89.6°F), and the UV index is 0.0."
     ]
    }
   ],
   "source": [
    "async for event in app.astream_events(initial_msg,config=config):\n",
    "    if event['event'] == 'on_chat_model_stream':\n",
    "        print(event['data']['chunk'].content,end=\"\",flush=True)"
   ]
  },
  {
   "cell_type": "code",
   "execution_count": null,
   "id": "60ac449e",
   "metadata": {},
   "outputs": [],
   "source": []
  }
 ],
 "metadata": {
  "kernelspec": {
   "display_name": "env",
   "language": "python",
   "name": "python3"
  },
  "language_info": {
   "codemirror_mode": {
    "name": "ipython",
    "version": 3
   },
   "file_extension": ".py",
   "mimetype": "text/x-python",
   "name": "python",
   "nbconvert_exporter": "python",
   "pygments_lexer": "ipython3",
   "version": "3.12.3"
  }
 },
 "nbformat": 4,
 "nbformat_minor": 5
}
